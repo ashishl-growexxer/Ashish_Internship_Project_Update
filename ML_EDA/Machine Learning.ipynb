{
 "cells": [
  {
   "cell_type": "code",
   "execution_count": 7,
   "id": "d16933b5",
   "metadata": {},
   "outputs": [
    {
     "name": "stdout",
     "output_type": "stream",
     "text": [
      "seaborn versiont: 0.12.2\n"
     ]
    }
   ],
   "source": [
    "import numpy as np\n",
    "import pandas as pd\n",
    "import matplotlib.pyplot as plt\n",
    "%matplotlib inline\n",
    "from scipy import stats\n",
    "import re\n",
    "import seaborn as sns\n",
    "print('seaborn versiont:',sns.__version__)\n",
    "import os\n",
    "import warnings\n",
    "warnings.filterwarnings('ignore') # if there are any warning due to version mismatch, it will be ignored"
   ]
  },
  {
   "cell_type": "code",
   "execution_count": 4,
   "id": "9c41e173",
   "metadata": {},
   "outputs": [],
   "source": [
    "headers = ['frequency','attack_angle','chord_length','free_stream_velocity','suction_side_displacement_thickness',\n",
    "'scaled_sound_pressure']"
   ]
  },
  {
   "cell_type": "code",
   "execution_count": 8,
   "id": "586381ec",
   "metadata": {},
   "outputs": [],
   "source": [
    "airfoil_data = pd.read_csv('/home/growlt243/Desktop/Project/Data/csv_data/airfoil_self_noise.csv',names=headers,header=None)"
   ]
  },
  {
   "cell_type": "code",
   "execution_count": 9,
   "id": "fd2c6028",
   "metadata": {},
   "outputs": [
    {
     "data": {
      "text/plain": [
       "frequency                                int64\n",
       "attack_angle                           float64\n",
       "chord_length                           float64\n",
       "free_stream_velocity                   float64\n",
       "suction_side_displacement_thickness    float64\n",
       "scaled_sound_pressure                  float64\n",
       "dtype: object"
      ]
     },
     "execution_count": 9,
     "metadata": {},
     "output_type": "execute_result"
    }
   ],
   "source": [
    "airfoil_data.dtypes"
   ]
  },
  {
   "cell_type": "code",
   "execution_count": null,
   "id": "eeb81a6b",
   "metadata": {},
   "outputs": [],
   "source": []
  }
 ],
 "metadata": {
  "kernelspec": {
   "display_name": "Python 3 (ipykernel)",
   "language": "python",
   "name": "python3"
  },
  "language_info": {
   "codemirror_mode": {
    "name": "ipython",
    "version": 3
   },
   "file_extension": ".py",
   "mimetype": "text/x-python",
   "name": "python",
   "nbconvert_exporter": "python",
   "pygments_lexer": "ipython3",
   "version": "3.11.5"
  }
 },
 "nbformat": 4,
 "nbformat_minor": 5
}
